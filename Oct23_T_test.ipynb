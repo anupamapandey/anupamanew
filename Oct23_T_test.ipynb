{
  "nbformat": 4,
  "nbformat_minor": 0,
  "metadata": {
    "colab": {
      "provenance": [],
      "include_colab_link": true
    },
    "kernelspec": {
      "name": "python3",
      "display_name": "Python 3"
    },
    "language_info": {
      "name": "python"
    }
  },
  "cells": [
    {
      "cell_type": "markdown",
      "metadata": {
        "id": "view-in-github",
        "colab_type": "text"
      },
      "source": [
        "<a href=\"https://colab.research.google.com/github/anupamapandey/anupamanew/blob/main/Oct23_T_test.ipynb\" target=\"_parent\"><img src=\"https://colab.research.google.com/assets/colab-badge.svg\" alt=\"Open In Colab\"/></a>"
      ]
    },
    {
      "cell_type": "code",
      "execution_count": null,
      "metadata": {
        "id": "R_I3UdlxxC--"
      },
      "outputs": [],
      "source": [
        "import numpy as np\n",
        "import pandas as pd\n",
        "\n",
        "from scipy.stats import norm, t\n",
        "\n",
        "from scipy.stats import ttest_1samp, ttest_ind, ttest_rel"
      ]
    },
    {
      "cell_type": "code",
      "source": [
        "from scipy.stats import t"
      ],
      "metadata": {
        "id": "iX_WIuZnrJIm"
      },
      "execution_count": null,
      "outputs": []
    },
    {
      "cell_type": "markdown",
      "source": [
        "#Recap of z-test"
      ],
      "metadata": {
        "id": "9P1RY0SFOndJ"
      }
    },
    {
      "cell_type": "code",
      "source": [
        "\"\"\"\n",
        "A french cake shop claims that the\n",
        "average number of pastries they can produce\n",
        "in a day exceeds 500.\n",
        "\n",
        "The average number of pastries produced per day\n",
        "over a 70 day period was found to be 530.\n",
        "\n",
        "Assume that the population standard deviation\n",
        "for the pastries produced per day is 125.\n",
        "\n",
        "Test their claim using a z-test (alpha is 5%)\n",
        "\"\"\"\n",
        "#Ho: mu = 500\n",
        "#Ha: mu > 500\n",
        "\n",
        "#right-tailed test\n",
        "pass"
      ],
      "metadata": {
        "id": "zDjoflhEOpTl"
      },
      "execution_count": null,
      "outputs": []
    },
    {
      "cell_type": "code",
      "source": [
        "#quizzes 1 and 2"
      ],
      "metadata": {
        "id": "rJyJXHkzUXje"
      },
      "execution_count": null,
      "outputs": []
    },
    {
      "cell_type": "code",
      "source": [
        "#Method 1: finding p-value\n",
        "\n",
        "mu = 500\n",
        "sigma = 125\n",
        "\n",
        "#sample data\n",
        "n = 70\n",
        "m = 530\n"
      ],
      "metadata": {
        "id": "fzxOo9UBPjIF"
      },
      "execution_count": null,
      "outputs": []
    },
    {
      "cell_type": "code",
      "source": [
        "#Method 2: finding critical region boundary\n",
        "\n",
        "mu = 500\n",
        "sigma = 125\n",
        "\n",
        "#sample data\n",
        "n = 70\n",
        "m = 530\n",
        "\n"
      ],
      "metadata": {
        "id": "MVDQeM9LPpGE"
      },
      "execution_count": null,
      "outputs": []
    },
    {
      "cell_type": "markdown",
      "source": [
        "#What if the population data is missing?"
      ],
      "metadata": {
        "id": "OVAVUuftRpyA"
      }
    },
    {
      "cell_type": "code",
      "source": [
        "\"\"\"\n",
        "The chinstrap penguin is a species of penguin\n",
        "that inhabits a variety of islands and shores\n",
        "in the Southern Pacific and the Antarctic Oceans.\n",
        "\n",
        "An expedition team of researchers recently managed to catch\n",
        "7 Chinstrap penguins, studied them, and then released the penguins.\n",
        "The waters made it difficult to catch more such penguins.\n",
        "No other data about these penguins is available.\n",
        "\n",
        "Based on the weights recorded of the 7 penguins (in kgs),\n",
        "construct a 95% CI for the average weight of Chinstrap penguins\n",
        "\"\"\"\n",
        "\n",
        "penguin_weights = [3.64,3.42,4.05,3.44,3.69,3.56,3.78]"
      ],
      "metadata": {
        "id": "gdMb2aDNRsl0"
      },
      "execution_count": null,
      "outputs": []
    },
    {
      "cell_type": "code",
      "source": [
        "penguin_weights = pd.Series([3.64,3.42,4.05,3.44,3.69,3.56,3.78])\n",
        "\n",
        "m = penguin_weights.mean() #sample mean\n",
        "s = penguin_weights.std() #NOTE: use pandas.std() for \"sample std dev\" and NOT numpy.std()\n",
        "n = len(penguin_weights)\n",
        "\n",
        "print(m,s)"
      ],
      "metadata": {
        "colab": {
          "base_uri": "https://localhost:8080/"
        },
        "id": "jKOC0eRTnK5C",
        "outputId": "0ae40f2e-235e-4eec-8892-b7e3fe09f865"
      },
      "execution_count": null,
      "outputs": [
        {
          "output_type": "stream",
          "name": "stdout",
          "text": [
            "3.654285714285714 0.21739803302216132\n"
          ]
        }
      ]
    },
    {
      "cell_type": "code",
      "source": [
        "#Finding t-scores: Left and right boundary t-scores for a 95% CI\n",
        "\n",
        "#NOTE: df is \"degrees of freedom\". This can be considered as \"sample_size - 1\"\n",
        "\n",
        "t_left = t.ppf(0.025,df=7-1) #2.5th percentile value of t\n",
        "\n",
        "t_right = t.ppf(0.975,df=7-1) #97.5th percentile value of t\n",
        "\n",
        "\n",
        "# The boundaries of a 95% CI: [m + (t_left)*se, m + (t_right)*se]\n",
        "\n",
        "se = s / np.sqrt(n) #sample std dev / root(n)\n",
        "\n",
        "print(f\"95% CI is for mu_pop: [{round(m + (t_left)*se,2)}, {round(m + (t_right)*se,2)}]\")"
      ],
      "metadata": {
        "colab": {
          "base_uri": "https://localhost:8080/"
        },
        "id": "_xoSUZgxrO5T",
        "outputId": "a84dae0b-3701-4a4d-a63a-ccf3487c3f98"
      },
      "execution_count": null,
      "outputs": [
        {
          "output_type": "stream",
          "name": "stdout",
          "text": [
            "95% CI is for mu_pop: [3.45, 3.86]\n"
          ]
        }
      ]
    },
    {
      "cell_type": "code",
      "source": [
        "\n",
        "\n",
        "\n"
      ],
      "metadata": {
        "id": "QBFrkB-cUZ-A"
      },
      "execution_count": null,
      "outputs": []
    },
    {
      "cell_type": "code",
      "source": [
        "\n",
        "\n",
        "\n"
      ],
      "metadata": {
        "id": "YJqdjq1OVZNn"
      },
      "execution_count": null,
      "outputs": []
    },
    {
      "cell_type": "markdown",
      "source": [
        "#T-test"
      ],
      "metadata": {
        "id": "aVjow--NLyit"
      }
    },
    {
      "cell_type": "code",
      "source": [
        "\"\"\"\n",
        "Vishal is a college student enrolled in a Statistics Course\n",
        "\n",
        "In the semester break after learning hypothesis testing,\n",
        "he goes on a family trip to the Netherlands.\n",
        "\n",
        "When Vishal remarks about how tall the men in the Netherlands are:\n",
        "His least-favourtie uncle remarks about how there are many tall people back in India,\n",
        "and that the average heights of both countries are the same\n",
        "\n",
        "\n",
        "Having learnt statistics, Vishal decides to do a hypothesis test.\n",
        "He wants to see if the heights are similar or if they're taller\n",
        "\n",
        "\n",
        "He samples a few random men of the Netherlands: stops and asks them for their heights\n",
        "Most of them refuse to answer. Some are happy to share their height.\n",
        "\"\"\"\n",
        "\n",
        "\n",
        "sample_heights = pd.Series([74.7, 75.3, 73.7, 77.1, 75.1, 73.6, 69.0, 74.2, 76.2])\n",
        "\n",
        "\n",
        "#avg height of man in India = 66 inches\n",
        "\n",
        "\n",
        "#Ho: mu_NED = 66 in\n",
        "#Ha: mu_NED > 66 in"
      ],
      "metadata": {
        "id": "eK3cPwQQv8P_"
      },
      "execution_count": null,
      "outputs": []
    },
    {
      "cell_type": "code",
      "source": [],
      "metadata": {
        "id": "Jg-M8F-tLx9e"
      },
      "execution_count": null,
      "outputs": []
    },
    {
      "cell_type": "code",
      "source": [
        "#Can we claim, based on these 9 people Vishal sampled,\n",
        "#that average height of men in the Netherlands is >66 inches\n",
        "\n",
        "\"\"\"\n",
        "Ho: mu_NED = 66\n",
        "Ha: mu_NED > 66\n",
        "alpha = 0.05\n",
        "\"\"\"\n",
        "\n",
        "mu = 66\n",
        "alpha = 0.05\n",
        "#sigma is not known\n",
        "\n",
        "#sample data\n",
        "x = sample_heights.mean()\n",
        "s = sample_heights.std()\n",
        "n = len(sample_heights)\n",
        "\n",
        "#For CLT with n samples\n",
        "se = s / np.sqrt(n)\n",
        "\n",
        "t_stat = (x-mu)/se\n",
        "\n",
        "\n",
        "p_value = 1 - t.cdf(t_stat,df=n-1)\n",
        "\n",
        "p_value #probabilty of values falling to the right of x\n",
        "\n",
        "if p_value < (alpha):\n",
        "  print(\"Reject Ho\")\n",
        "else:\n",
        "  print(\"Failed to Reject Ho\")\n"
      ],
      "metadata": {
        "id": "HMcrfAt3xNuG"
      },
      "execution_count": null,
      "outputs": []
    },
    {
      "cell_type": "code",
      "source": [
        "#using ttest_1samp\n",
        "\n"
      ],
      "metadata": {
        "id": "sMC1MZg_Ndn_"
      },
      "execution_count": null,
      "outputs": []
    },
    {
      "cell_type": "markdown",
      "source": [
        "#IQ scores"
      ],
      "metadata": {
        "id": "S1YLhZi1Y8c1"
      }
    },
    {
      "cell_type": "code",
      "source": [
        "\"\"\"\n",
        "The mean IQ scores for a population is 100\n",
        "\n",
        "A team of scientists want to see if long-term\n",
        "medication used for a certain psychiatric treatment\n",
        "affects IQ scores (either in a positive or negative way,\n",
        "or if it has no effect at all).\n",
        "\n",
        "They found 8 such patients who have been administered this\n",
        "medication for over a decade. Here are the results:\n",
        "iq_scores = [110, 105, 98, 102, 99, 104, 115, 95]\n",
        "\n",
        "Did the medication affect intelligence?\n",
        "alpha = 0.05\n",
        "\"\"\"\n",
        "\n",
        "#Ho: mu = 100 -> medication does not affect avg IQ\n",
        "#Ha: mu !=100 -> medication has a significant effect on IQ\n",
        "pass\n",
        "\n",
        "\n"
      ],
      "metadata": {
        "id": "nDn7YSj8Y-YG"
      },
      "execution_count": null,
      "outputs": []
    },
    {
      "cell_type": "markdown",
      "source": [
        "#Paired t-test"
      ],
      "metadata": {
        "id": "seFHVPJqJpbV"
      }
    },
    {
      "cell_type": "code",
      "source": [
        "\"\"\"\n",
        "Twelve cars were equipped with radial tyres,\n",
        "and driven over a test course.\n",
        "\n",
        "Then the same 12 cars, (with the same drivers),\n",
        "were equipped with regular belted tyres\n",
        "and driven over the same test course.\n",
        "\n",
        "After each run, the mileage (in km/l) was measured.\n",
        "Is there evidence that radial tyres offer better mileage?\n",
        "\n",
        "assume alpha = 0.05\n",
        "\"\"\"\n",
        "\n",
        "mileages_radial = [4.2,4.7,6.6,7.0,6.7,4.5,5.7,6.0,7.4,4.9,6.1,5.2]\n",
        "mileages_belted = [4.1,4.9,6.2,6.9,6.8,4.4,5.7,5.8,6.9,4.7,6.0,4.9]\n",
        "\n"
      ],
      "metadata": {
        "id": "X-V_-O7xJs4e"
      },
      "execution_count": null,
      "outputs": []
    },
    {
      "cell_type": "code",
      "source": [],
      "metadata": {
        "id": "jqppsU9xa7ip"
      },
      "execution_count": null,
      "outputs": []
    },
    {
      "cell_type": "markdown",
      "source": [
        "#t-test for two independent samples"
      ],
      "metadata": {
        "id": "nA2J_fy3a7-r"
      }
    },
    {
      "cell_type": "code",
      "source": [
        "\"\"\"\n",
        "Samples of Body fat percentages of few gym going men and women are recorded.\n",
        "\n",
        "men = [13.3, 6.0, 20.0, 8.0, 14.0, 19.0, 18.0, 25.0, 16.0, 24.0, 15.0, 1.0, 15.0]\n",
        "women = [22.0, 16.0, 21.7, 21.0, 30.0, 26.0, 12.0, 23.2, 28.0, 23.0]\n",
        "\n",
        "Perform 2 sample T-test to check if\n",
        "mean body fat percentage of men and women\n",
        "are statistically different.\n",
        "\n",
        "Assume significance level to be 5%.\n",
        "\"\"\"\n",
        "pass"
      ],
      "metadata": {
        "id": "BiTi-rvebDBj"
      },
      "execution_count": null,
      "outputs": []
    },
    {
      "cell_type": "code",
      "source": [],
      "metadata": {
        "id": "SwU20wNnbKUu"
      },
      "execution_count": null,
      "outputs": []
    }
  ]
}